{
 "cells": [
  {
   "cell_type": "code",
   "execution_count": 1,
   "id": "2502b3cb",
   "metadata": {},
   "outputs": [],
   "source": [
    "list_1=[0,1,2,3,4,5,6]"
   ]
  },
  {
   "cell_type": "code",
   "execution_count": 2,
   "id": "10c369f0",
   "metadata": {},
   "outputs": [],
   "source": [
    "list_2=[\"cat\",\"bat\"]"
   ]
  },
  {
   "cell_type": "code",
   "execution_count": 4,
   "id": "ab52ac76",
   "metadata": {},
   "outputs": [
    {
     "data": {
      "text/plain": [
       "[0, 1, 2, 3, 4, 5, 6]"
      ]
     },
     "execution_count": 4,
     "metadata": {},
     "output_type": "execute_result"
    }
   ],
   "source": [
    "list_1.sort(reverse=False)\n",
    "list_1"
   ]
  },
  {
   "cell_type": "code",
   "execution_count": 5,
   "id": "1cb4633a",
   "metadata": {},
   "outputs": [
    {
     "data": {
      "text/plain": [
       "[6, 5, 4, 3, 2, 1, 0]"
      ]
     },
     "execution_count": 5,
     "metadata": {},
     "output_type": "execute_result"
    }
   ],
   "source": [
    "list_1.sort(reverse=True)\n",
    "list_1"
   ]
  },
  {
   "cell_type": "code",
   "execution_count": 8,
   "id": "c0fd21b0",
   "metadata": {},
   "outputs": [],
   "source": [
    "my_dict={\"k1\":\"cat\", \"k2\":\"owl\",\"k3\":8}"
   ]
  },
  {
   "cell_type": "code",
   "execution_count": 9,
   "id": "660e5b85",
   "metadata": {},
   "outputs": [
    {
     "data": {
      "text/plain": [
       "'cat'"
      ]
     },
     "execution_count": 9,
     "metadata": {},
     "output_type": "execute_result"
    }
   ],
   "source": [
    "my_dict[\"k1\"]"
   ]
  },
  {
   "cell_type": "code",
   "execution_count": 10,
   "id": "c789aee1",
   "metadata": {},
   "outputs": [
    {
     "name": "stdout",
     "output_type": "stream",
     "text": [
      "Writing new.txt\n"
     ]
    }
   ],
   "source": [
    "%%writefile new.txt\n",
    "This is a text file\n",
    "here is another line\n",
    "another line here"
   ]
  },
  {
   "cell_type": "code",
   "execution_count": 12,
   "id": "13b2882a",
   "metadata": {},
   "outputs": [],
   "source": [
    "new=open(\"new.txt\")"
   ]
  },
  {
   "cell_type": "code",
   "execution_count": 13,
   "id": "4c022d3d",
   "metadata": {},
   "outputs": [
    {
     "data": {
      "text/plain": [
       "_io.TextIOWrapper"
      ]
     },
     "execution_count": 13,
     "metadata": {},
     "output_type": "execute_result"
    }
   ],
   "source": [
    "type(new)"
   ]
  },
  {
   "cell_type": "code",
   "execution_count": 14,
   "id": "9f1c19aa",
   "metadata": {},
   "outputs": [
    {
     "data": {
      "text/plain": [
       "'This is a text file\\nhere is another line\\nanother line here\\n'"
      ]
     },
     "execution_count": 14,
     "metadata": {},
     "output_type": "execute_result"
    }
   ],
   "source": [
    "new.read()"
   ]
  },
  {
   "cell_type": "code",
   "execution_count": 15,
   "id": "b044f8b8",
   "metadata": {},
   "outputs": [
    {
     "data": {
      "text/plain": [
       "0"
      ]
     },
     "execution_count": 15,
     "metadata": {},
     "output_type": "execute_result"
    }
   ],
   "source": [
    "new.seek(0)"
   ]
  },
  {
   "cell_type": "code",
   "execution_count": 16,
   "id": "f8b70cc8",
   "metadata": {},
   "outputs": [
    {
     "data": {
      "text/plain": [
       "'This is a text file\\nhere is another line\\nanother line here\\n'"
      ]
     },
     "execution_count": 16,
     "metadata": {},
     "output_type": "execute_result"
    }
   ],
   "source": [
    "new.read()"
   ]
  },
  {
   "cell_type": "code",
   "execution_count": 17,
   "id": "bea7b79d",
   "metadata": {},
   "outputs": [],
   "source": [
    "new.close()"
   ]
  },
  {
   "cell_type": "code",
   "execution_count": 18,
   "id": "180e7c8e",
   "metadata": {},
   "outputs": [],
   "source": [
    "list_1.append(\"aaamma\")"
   ]
  },
  {
   "cell_type": "code",
   "execution_count": 19,
   "id": "3be07408",
   "metadata": {},
   "outputs": [
    {
     "data": {
      "text/plain": [
       "[6, 5, 4, 3, 2, 1, 0, 'aaamma']"
      ]
     },
     "execution_count": 19,
     "metadata": {},
     "output_type": "execute_result"
    }
   ],
   "source": [
    "list_1"
   ]
  },
  {
   "cell_type": "code",
   "execution_count": 20,
   "id": "93a8339a",
   "metadata": {},
   "outputs": [
    {
     "data": {
      "text/plain": [
       "5"
      ]
     },
     "execution_count": 20,
     "metadata": {},
     "output_type": "execute_result"
    }
   ],
   "source": [
    "list_1.pop(1)"
   ]
  },
  {
   "cell_type": "code",
   "execution_count": 21,
   "id": "add1dfb3",
   "metadata": {},
   "outputs": [
    {
     "data": {
      "text/plain": [
       "[6, 4, 3, 2, 1, 0, 'aaamma']"
      ]
     },
     "execution_count": 21,
     "metadata": {},
     "output_type": "execute_result"
    }
   ],
   "source": [
    "list_1"
   ]
  },
  {
   "cell_type": "code",
   "execution_count": 22,
   "id": "7ab2eb78",
   "metadata": {},
   "outputs": [],
   "source": [
    "list1=[0,1,2,3,4,5,6,7,8,9,10]"
   ]
  },
  {
   "cell_type": "code",
   "execution_count": 23,
   "id": "d7901d38",
   "metadata": {},
   "outputs": [
    {
     "data": {
      "text/plain": [
       "list"
      ]
     },
     "execution_count": 23,
     "metadata": {},
     "output_type": "execute_result"
    }
   ],
   "source": [
    "type(list1)"
   ]
  },
  {
   "cell_type": "code",
   "execution_count": 24,
   "id": "1f37e5f3",
   "metadata": {},
   "outputs": [],
   "source": [
    "list2=[\"Even\" if x%2 == 0 else \"Odd\" for x in list1]"
   ]
  },
  {
   "cell_type": "code",
   "execution_count": 25,
   "id": "cef300a4",
   "metadata": {},
   "outputs": [
    {
     "data": {
      "text/plain": [
       "list"
      ]
     },
     "execution_count": 25,
     "metadata": {},
     "output_type": "execute_result"
    }
   ],
   "source": [
    "type(list2)"
   ]
  },
  {
   "cell_type": "code",
   "execution_count": 26,
   "id": "42768504",
   "metadata": {},
   "outputs": [
    {
     "name": "stdout",
     "output_type": "stream",
     "text": [
      "['Even', 'Odd', 'Even', 'Odd', 'Even', 'Odd', 'Even', 'Odd', 'Even', 'Odd', 'Even']\n"
     ]
    }
   ],
   "source": [
    "print(list2)"
   ]
  },
  {
   "cell_type": "code",
   "execution_count": 27,
   "id": "24543103",
   "metadata": {},
   "outputs": [
    {
     "data": {
      "text/plain": [
       "1"
      ]
     },
     "execution_count": 27,
     "metadata": {},
     "output_type": "execute_result"
    }
   ],
   "source": [
    "list1.count(2)"
   ]
  },
  {
   "cell_type": "code",
   "execution_count": null,
   "id": "22477f1b",
   "metadata": {},
   "outputs": [],
   "source": []
  }
 ],
 "metadata": {
  "kernelspec": {
   "display_name": "Python 3 (ipykernel)",
   "language": "python",
   "name": "python3"
  },
  "language_info": {
   "codemirror_mode": {
    "name": "ipython",
    "version": 3
   },
   "file_extension": ".py",
   "mimetype": "text/x-python",
   "name": "python",
   "nbconvert_exporter": "python",
   "pygments_lexer": "ipython3",
   "version": "3.9.13"
  }
 },
 "nbformat": 4,
 "nbformat_minor": 5
}
